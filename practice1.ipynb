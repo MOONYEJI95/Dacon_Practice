{
 "cells": [
  {
   "cell_type": "code",
   "execution_count": 20,
   "id": "0e348550",
   "metadata": {},
   "outputs": [
    {
     "data": {
      "text/plain": [
       "'C:\\\\Users\\\\USER\\\\book'"
      ]
     },
     "execution_count": 20,
     "metadata": {},
     "output_type": "execute_result"
    }
   ],
   "source": [
    "import os\n",
    "import pandas as pd\n",
    "\n",
    "# 현재 경로 확인\n",
    "os.getcwd()"
   ]
  },
  {
   "cell_type": "markdown",
   "id": "bbca8a32",
   "metadata": {},
   "source": [
    "## EDA"
   ]
  },
  {
   "cell_type": "code",
   "execution_count": 21,
   "id": "08b35d10",
   "metadata": {},
   "outputs": [
    {
     "name": "stdout",
     "output_type": "stream",
     "text": [
      "             ID     User-ID      Book-ID  Book-Rating   Age  \\\n",
      "0  TRAIN_000000  USER_00000  BOOK_044368            8  23.0   \n",
      "1  TRAIN_000001  USER_00000  BOOK_081205            8  23.0   \n",
      "2  TRAIN_000002  USER_00000  BOOK_086781            0  23.0   \n",
      "3  TRAIN_000003  USER_00000  BOOK_098622            0  23.0   \n",
      "4  TRAIN_000004  USER_00000  BOOK_180810            8  23.0   \n",
      "\n",
      "                           Location                          Book-Title  \\\n",
      "0  sackville, new brunswick, canada                          Road Taken   \n",
      "1  sackville, new brunswick, canada   Macbeth (New Penguin Shakespeare)   \n",
      "2  sackville, new brunswick, canada  Waverley (Penguin English Library)   \n",
      "3  sackville, new brunswick, canada             Mother Earth Father Sky   \n",
      "4  sackville, new brunswick, canada                   She Who Remembers   \n",
      "\n",
      "           Book-Author  Year-Of-Publication      Publisher  \n",
      "0           Rona Jaffe               2001.0           Mira  \n",
      "1  William Shakespeare               1981.0  Penguin Books  \n",
      "2         Walter Scott               1981.0  Penguin Books  \n",
      "3         Sue Harrison               1991.0           Avon  \n",
      "4     Linda Lay Shuler               1989.0    Signet Book  \n"
     ]
    }
   ],
   "source": [
    "# 데이터 불러오기\n",
    "book = pd.read_csv('data/train.csv')\n",
    "print(book.head())"
   ]
  },
  {
   "cell_type": "code",
   "execution_count": 22,
   "id": "3cd907d8",
   "metadata": {},
   "outputs": [],
   "source": [
    "# Book-Rating, Age, Year-Of-Publication > 범주형 변환 필요\n",
    "# Location은 ,를 기준으로 분리 (도, 주, 나라)"
   ]
  },
  {
   "cell_type": "code",
   "execution_count": 23,
   "id": "a0ce4b7b",
   "metadata": {},
   "outputs": [
    {
     "name": "stdout",
     "output_type": "stream",
     "text": [
      "<class 'pandas.core.frame.DataFrame'>\n",
      "RangeIndex: 871393 entries, 0 to 871392\n",
      "Data columns (total 10 columns):\n",
      " #   Column               Non-Null Count   Dtype  \n",
      "---  ------               --------------   -----  \n",
      " 0   ID                   871393 non-null  object \n",
      " 1   User-ID              871393 non-null  object \n",
      " 2   Book-ID              871393 non-null  object \n",
      " 3   Book-Rating          871393 non-null  int64  \n",
      " 4   Age                  871393 non-null  float64\n",
      " 5   Location             871393 non-null  object \n",
      " 6   Book-Title           871393 non-null  object \n",
      " 7   Book-Author          871393 non-null  object \n",
      " 8   Year-Of-Publication  871393 non-null  float64\n",
      " 9   Publisher            871393 non-null  object \n",
      "dtypes: float64(2), int64(1), object(7)\n",
      "memory usage: 66.5+ MB\n"
     ]
    }
   ],
   "source": [
    "book.info()\n",
    "# 총 871,393개 raw\n",
    "# count만 봤을 때는 결측치가 없음"
   ]
  },
  {
   "cell_type": "code",
   "execution_count": 24,
   "id": "d3ad8e8d",
   "metadata": {},
   "outputs": [
    {
     "name": "stdout",
     "output_type": "stream",
     "text": [
      "11515\n"
     ]
    }
   ],
   "source": [
    "# 데이터 설명에 Year-Of-Publication 값이 -1이면 결측치라고 명시되어 있으므로 -1인 값을 가지는지 확인\n",
    "print(len(book.loc[book['Year-Of-Publication'] == -1]))\n",
    "#print(book.loc[book['Year-Of-Publication'] == -1])\n",
    "\n",
    "# Year-Of-Publication(도서 출판 년도)의 결측치의 개수는 총 11,515개\n",
    "# 전체 데이터 개수 871,393개 중 결측치가 11,515개 (전체 데이터의 1.3% 수준이라 제거해도 된다고 판단됨)"
   ]
  },
  {
   "cell_type": "code",
   "execution_count": 25,
   "id": "fd1388a1",
   "metadata": {},
   "outputs": [],
   "source": [
    "# Year-Of-Publication(도서 출판 년도)의 결측치 총 11,515개 제거\n",
    "book = book[book['Year-Of-Publication'] != -1]"
   ]
  },
  {
   "cell_type": "code",
   "execution_count": 17,
   "id": "183577e6",
   "metadata": {},
   "outputs": [
    {
     "name": "stdout",
     "output_type": "stream",
     "text": [
      "0\n"
     ]
    }
   ],
   "source": []
  },
  {
   "cell_type": "code",
   "execution_count": 26,
   "id": "01068f0e",
   "metadata": {},
   "outputs": [
    {
     "name": "stdout",
     "output_type": "stream",
     "text": [
      "         Book-Rating            Age  Year-Of-Publication\n",
      "count  859878.000000  859878.000000        859878.000000\n",
      "mean        2.816737      36.816466          1995.283170\n",
      "std         3.846019      12.060493             7.375755\n",
      "min         0.000000       0.000000          1376.000000\n",
      "25%         0.000000      31.000000          1992.000000\n",
      "50%         0.000000      35.000000          1997.000000\n",
      "75%         7.000000      41.000000          2001.000000\n",
      "max        10.000000     244.000000          2021.000000\n"
     ]
    }
   ],
   "source": [
    "# 기술 통계량 확인\n",
    "print(book.describe())\n",
    "\n",
    "# Book-Rating 평균 2.8점 / 0점~10점\n",
    "# Age 평균 36.8세 / 0세~244세 -> 데이터 이상(유니크 값 확인해보기)\n",
    "# 결측치 제거 후 총 개수 859,878"
   ]
  },
  {
   "cell_type": "code",
   "execution_count": 27,
   "id": "5bb0d76d",
   "metadata": {},
   "outputs": [
    {
     "name": "stdout",
     "output_type": "stream",
     "text": [
      "[ 23.  35.  24.  39.  37.  47.  48.  20.  31.  46.  49.  58.  68.  26.\n",
      "  32.  17.  34.  56.  36.  15.  53.  18.  40.  27.  25.  69.  43.  45.\n",
      "  33.  61.  52.  29.  30.  14.  66.  13.  62.  19.   0.  83.  57.  50.\n",
      "  28.  63.  55.  51.  42.  38.  41.  54.  22.  65.  60.  70.  64.  21.\n",
      " 103.  44.  16.  73.  93.   4.  75.  71.  11.  67.  10.  59.  79. 138.\n",
      "  74.   3.  76.   1.   5.  12.   6.  81.  78. 141.  85.  72.  80.  77.\n",
      " 101.  90. 148.   8. 104. 168.   9.   2. 108. 209. 114. 219. 136. 147.\n",
      " 100.   7.  96. 151. 239. 229. 109.  86.  92. 157. 228. 237. 107.  84.\n",
      " 204. 127.  82.  97.  89. 220. 226. 116. 124. 199. 152.  98. 244. 128.\n",
      " 201.  99. 140. 146. 118. 223. 212. 123. 200.]\n"
     ]
    }
   ],
   "source": [
    "# Age 유니크값 확인\n",
    "\n",
    "print(book['Age'].unique())"
   ]
  },
  {
   "cell_type": "code",
   "execution_count": 45,
   "id": "8c4a3c70",
   "metadata": {},
   "outputs": [],
   "source": [
    "# 5이하, 100이상은 이상치로 판단하고 행 삭제하기\n",
    "book = book[(book['Age'] > 5) & (book['Age'] < 100)]"
   ]
  },
  {
   "cell_type": "code",
   "execution_count": 46,
   "id": "6f434458",
   "metadata": {},
   "outputs": [
    {
     "name": "stdout",
     "output_type": "stream",
     "text": [
      "[23. 35. 24. 39. 37. 47. 48. 20. 31. 46. 49. 58. 68. 26. 32. 17. 34. 56.\n",
      " 36. 15. 53. 18. 40. 27. 25. 69. 43. 45. 33. 61. 52. 29. 30. 14. 66. 13.\n",
      " 62. 19. 83. 57. 50. 28. 63. 55. 51. 42. 38. 41. 54. 22. 65. 60. 70. 64.\n",
      " 21. 44. 16. 73. 93. 75. 71. 11. 67. 10. 59. 79. 74. 76. 12.  6. 81. 78.\n",
      " 85. 72. 80. 77. 90.  8.  9.  7. 96. 86. 92. 84. 82. 97. 89. 98. 99.]\n"
     ]
    }
   ],
   "source": [
    "# Age 유니크값 다시 확인\n",
    "\n",
    "print(book['Age'].unique())"
   ]
  },
  {
   "cell_type": "code",
   "execution_count": 47,
   "id": "bd17e6da",
   "metadata": {},
   "outputs": [
    {
     "name": "stdout",
     "output_type": "stream",
     "text": [
      "         Book-Rating            Age  Year-Of-Publication\n",
      "count  855690.000000  855690.000000        855690.000000\n",
      "mean        2.817441      36.571363          1995.282182\n",
      "std         3.846441      10.342878             7.375436\n",
      "min         0.000000       6.000000          1376.000000\n",
      "25%         0.000000      31.000000          1992.000000\n",
      "50%         0.000000      35.000000          1997.000000\n",
      "75%         7.000000      41.000000          2001.000000\n",
      "max        10.000000      99.000000          2021.000000\n"
     ]
    }
   ],
   "source": [
    "# 기술 통계량 다시 확인 - 결측치 제거 후 총 개수 : 855,690개\n",
    "print(book.describe())"
   ]
  },
  {
   "cell_type": "code",
   "execution_count": 49,
   "id": "745d28a0",
   "metadata": {},
   "outputs": [
    {
     "name": "stdout",
     "output_type": "stream",
     "text": [
      "35.0    248313\n",
      "33.0     27058\n",
      "29.0     25105\n",
      "30.0     22774\n",
      "31.0     22190\n",
      "         ...  \n",
      "96.0         8\n",
      "99.0         4\n",
      "89.0         2\n",
      "86.0         1\n",
      "98.0         1\n",
      "Name: Age, Length: 89, dtype: int64\n"
     ]
    }
   ],
   "source": [
    "print(book['Age'].value_counts())\n",
    "# 35세가 248,313건으로 제일 많음(결측치 제거 후 총 개수 855,690개 중 29.0% 차지)"
   ]
  },
  {
   "cell_type": "code",
   "execution_count": 50,
   "id": "3efce6db",
   "metadata": {},
   "outputs": [
    {
     "data": {
      "text/plain": [
       "array([[<Axes: title={'center': 'Book-Rating'}>,\n",
       "        <Axes: title={'center': 'Age'}>],\n",
       "       [<Axes: title={'center': 'Year-Of-Publication'}>, <Axes: >]],\n",
       "      dtype=object)"
      ]
     },
     "execution_count": 50,
     "metadata": {},
     "output_type": "execute_result"
    },
    {
     "data": {
      "image/png": "[encoded data removed]",
      "text/plain": [
       "<Figure size 2000x1500 with 4 Axes>"
      ]
     },
     "metadata": {},
     "output_type": "display_data"
    }
   ],
   "source": [
    "book.hist(bins=50, figsize=(20, 15))"
   ]
  },
  {
   "cell_type": "code",
   "execution_count": null,
   "id": "c6a8801b",
   "metadata": {},
   "outputs": [],
   "source": []
  },
  {
   "cell_type": "code",
   "execution_count": null,
   "id": "6da30716",
   "metadata": {},
   "outputs": [],
   "source": []
  },
  {
   "cell_type": "code",
   "execution_count": null,
   "id": "c97d0c30",
   "metadata": {},
   "outputs": [],
   "source": []
  }
 ],
 "metadata": {
  "kernelspec": {
   "display_name": "Python 3 (ipykernel)",
   "language": "python",
   "name": "python3"
  },
  "language_info": {
   "codemirror_mode": {
    "name": "ipython",
    "version": 3
   },
   "file_extension": ".py",
   "mimetype": "text/x-python",
   "name": "python",
   "nbconvert_exporter": "python",
   "pygments_lexer": "ipython3",
   "version": "3.10.9"
  }
 },
 "nbformat": 4,
 "nbformat_minor": 5
}
